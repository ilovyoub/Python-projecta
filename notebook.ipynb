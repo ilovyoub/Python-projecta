{
 "cells": [
  {
   "cell_type": "markdown",
   "id": "3ed0edb2-696b-49ab-9db0-681defcce695",
   "metadata": {},
   "source": [
    "You're working as a sports journalist at a major online sports media company, specializing in soccer analysis and reporting. You've been watching both men's and women's international soccer matches for a number of years, and your gut instinct tells you that more goals are scored in women's international football matches than men's. This would make an interesting investigative article that your subscribers are bound to love, but you'll need to perform a valid statistical hypothesis test to be sure!\n",
    "\n",
    "While scoping this project, you acknowledge that the sport has changed a lot over the years, and performances likely vary a lot depending on the tournament, so you decide to limit the data used in the analysis to only official `FIFA World Cup` matches (not including qualifiers) since `2002-01-01`.\n",
    "\n",
    "You create two datasets containing the results of every official men's and women's international football match since the 19th century, which you scraped from a reliable online source. This data is stored in two CSV files: `women_results.csv` and `men_results.csv`.\n",
    "\n",
    "The question you are trying to determine the answer to is:\n",
    "\n",
    "> Are more goals scored in women's international soccer matches than men's?\n",
    "\n",
    "You assume a **10% significance level**, and use the following null and alternative hypotheses:\n",
    "$H_0$ : The mean number of goals scored in women's international soccer matches is the same as men's.\n",
    "$H_A$ : The mean number of goals scored in women's international soccer matches is greater than men's."
   ]
  },
  {
   "cell_type": "code",
   "execution_count": 240,
   "id": "84a3c4c8-534b-4d1a-9919-17e05208b2ca",
   "metadata": {
    "executionCancelledAt": null,
    "executionTime": 12,
    "lastExecutedAt": 1713861929108,
    "lastExecutedByKernel": "03a27ca6-af82-4aa2-9c3a-1cf6b5fd5d5e",
    "lastScheduledRunId": null,
    "lastSuccessfullyExecutedCode": "import pandas as pd\nimport seaborn as sns\nimport matplotlib.pyplot as plt\nimport pingouin"
   },
   "outputs": [],
   "source": [
    "import pandas as pd\n",
    "import seaborn as sns\n",
    "import matplotlib.pyplot as plt\n",
    "import pingouin"
   ]
  },
  {
   "cell_type": "code",
   "execution_count": 241,
   "id": "624b3c71-768b-4f47-a652-6c7d7319bb9e",
   "metadata": {
    "executionCancelledAt": null,
    "executionTime": 60,
    "lastExecutedAt": 1713861929168,
    "lastExecutedByKernel": "03a27ca6-af82-4aa2-9c3a-1cf6b5fd5d5e",
    "lastScheduledRunId": null,
    "lastSuccessfullyExecutedCode": "m_df = pd.read_csv('men_results.csv')\nw_df = pd.read_csv('women_results.csv')\nm_df['date'] = pd.to_datetime(m_df['date'])\nw_df['date'] = pd.to_datetime(w_df['date'])"
   },
   "outputs": [],
   "source": [
    "m_df = pd.read_csv('men_results.csv')\n",
    "w_df = pd.read_csv('women_results.csv')\n",
    "m_df['date'] = pd.to_datetime(m_df['date'])\n",
    "w_df['date'] = pd.to_datetime(w_df['date'])"
   ]
  },
  {
   "cell_type": "code",
   "execution_count": 242,
   "id": "f4d65e9b-c4db-4dc8-99ac-c1791bd96a80",
   "metadata": {
    "executionCancelledAt": null,
    "executionTime": 53,
    "lastExecutedAt": 1713861929222,
    "lastExecutedByKernel": "03a27ca6-af82-4aa2-9c3a-1cf6b5fd5d5e",
    "lastScheduledRunId": null,
    "lastSuccessfullyExecutedCode": "a = 0.1\n# Ha = w_m > m_m"
   },
   "outputs": [],
   "source": [
    "a = 0.1\n",
    "# Ha = w_m > m_m"
   ]
  },
  {
   "cell_type": "code",
   "execution_count": 243,
   "id": "2adc0780-cb4e-4aa0-8d90-98eb2fb85838",
   "metadata": {
    "executionCancelledAt": null,
    "executionTime": 52,
    "lastExecutedAt": 1713861929274,
    "lastExecutedByKernel": "03a27ca6-af82-4aa2-9c3a-1cf6b5fd5d5e",
    "lastScheduledRunId": null,
    "lastSuccessfullyExecutedCode": "w_df.info()",
    "outputsMetadata": {
     "0": {
      "height": 311,
      "type": "stream"
     }
    }
   },
   "outputs": [
    {
     "name": "stdout",
     "output_type": "stream",
     "text": [
      "<class 'pandas.core.frame.DataFrame'>\n",
      "RangeIndex: 4884 entries, 0 to 4883\n",
      "Data columns (total 7 columns):\n",
      " #   Column      Non-Null Count  Dtype         \n",
      "---  ------      --------------  -----         \n",
      " 0   Unnamed: 0  4884 non-null   int64         \n",
      " 1   date        4884 non-null   datetime64[ns]\n",
      " 2   home_team   4884 non-null   object        \n",
      " 3   away_team   4884 non-null   object        \n",
      " 4   home_score  4884 non-null   int64         \n",
      " 5   away_score  4884 non-null   int64         \n",
      " 6   tournament  4884 non-null   object        \n",
      "dtypes: datetime64[ns](1), int64(3), object(3)\n",
      "memory usage: 267.2+ KB\n"
     ]
    }
   ],
   "source": [
    "w_df.info()"
   ]
  },
  {
   "cell_type": "code",
   "execution_count": 244,
   "id": "8c1d8c0c-d0b9-4d98-af27-52bf5a496d8d",
   "metadata": {
    "outputsMetadata": {
     "0": {
      "height": 194,
      "type": "dataFrame"
     }
    }
   },
   "outputs": [
    {
     "data": {
      "application/com.datacamp.data-table.v2+json": {
       "table": {
        "data": {
         "Unnamed: 0": [
          25164,
          25165,
          25166,
          25167,
          25168
         ],
         "away_score": [
          1,
          0,
          1,
          2,
          0
         ],
         "away_team": [
          "Senegal",
          "Saudi Arabia",
          "Cameroon",
          "Denmark",
          "Nigeria"
         ],
         "date": [
          "2002-05-31T00:00:00.000",
          "2002-06-01T00:00:00.000",
          "2002-06-01T00:00:00.000",
          "2002-06-01T00:00:00.000",
          "2002-06-02T00:00:00.000"
         ],
         "home_score": [
          0,
          8,
          1,
          1,
          1
         ],
         "home_team": [
          "France",
          "Germany",
          "Republic of Ireland",
          "Uruguay",
          "Argentina"
         ],
         "index": [
          25164,
          25165,
          25166,
          25167,
          25168
         ],
         "tournament": [
          "FIFA World Cup",
          "FIFA World Cup",
          "FIFA World Cup",
          "FIFA World Cup",
          "FIFA World Cup"
         ]
        },
        "schema": {
         "fields": [
          {
           "name": "index",
           "type": "integer"
          },
          {
           "name": "Unnamed: 0",
           "type": "integer"
          },
          {
           "name": "date",
           "type": "datetime"
          },
          {
           "name": "home_team",
           "type": "string"
          },
          {
           "name": "away_team",
           "type": "string"
          },
          {
           "name": "home_score",
           "type": "integer"
          },
          {
           "name": "away_score",
           "type": "integer"
          },
          {
           "name": "tournament",
           "type": "string"
          }
         ],
         "pandas_version": "1.4.0",
         "primaryKey": [
          "index"
         ]
        }
       },
       "total_rows": 5,
       "truncation_type": null
      },
      "text/html": [
       "<div>\n",
       "<style scoped>\n",
       "    .dataframe tbody tr th:only-of-type {\n",
       "        vertical-align: middle;\n",
       "    }\n",
       "\n",
       "    .dataframe tbody tr th {\n",
       "        vertical-align: top;\n",
       "    }\n",
       "\n",
       "    .dataframe thead th {\n",
       "        text-align: right;\n",
       "    }\n",
       "</style>\n",
       "<table border=\"1\" class=\"dataframe\">\n",
       "  <thead>\n",
       "    <tr style=\"text-align: right;\">\n",
       "      <th></th>\n",
       "      <th>Unnamed: 0</th>\n",
       "      <th>date</th>\n",
       "      <th>home_team</th>\n",
       "      <th>away_team</th>\n",
       "      <th>home_score</th>\n",
       "      <th>away_score</th>\n",
       "      <th>tournament</th>\n",
       "    </tr>\n",
       "  </thead>\n",
       "  <tbody>\n",
       "    <tr>\n",
       "      <th>25164</th>\n",
       "      <td>25164</td>\n",
       "      <td>2002-05-31</td>\n",
       "      <td>France</td>\n",
       "      <td>Senegal</td>\n",
       "      <td>0</td>\n",
       "      <td>1</td>\n",
       "      <td>FIFA World Cup</td>\n",
       "    </tr>\n",
       "    <tr>\n",
       "      <th>25165</th>\n",
       "      <td>25165</td>\n",
       "      <td>2002-06-01</td>\n",
       "      <td>Germany</td>\n",
       "      <td>Saudi Arabia</td>\n",
       "      <td>8</td>\n",
       "      <td>0</td>\n",
       "      <td>FIFA World Cup</td>\n",
       "    </tr>\n",
       "    <tr>\n",
       "      <th>25166</th>\n",
       "      <td>25166</td>\n",
       "      <td>2002-06-01</td>\n",
       "      <td>Republic of Ireland</td>\n",
       "      <td>Cameroon</td>\n",
       "      <td>1</td>\n",
       "      <td>1</td>\n",
       "      <td>FIFA World Cup</td>\n",
       "    </tr>\n",
       "    <tr>\n",
       "      <th>25167</th>\n",
       "      <td>25167</td>\n",
       "      <td>2002-06-01</td>\n",
       "      <td>Uruguay</td>\n",
       "      <td>Denmark</td>\n",
       "      <td>1</td>\n",
       "      <td>2</td>\n",
       "      <td>FIFA World Cup</td>\n",
       "    </tr>\n",
       "    <tr>\n",
       "      <th>25168</th>\n",
       "      <td>25168</td>\n",
       "      <td>2002-06-02</td>\n",
       "      <td>Argentina</td>\n",
       "      <td>Nigeria</td>\n",
       "      <td>1</td>\n",
       "      <td>0</td>\n",
       "      <td>FIFA World Cup</td>\n",
       "    </tr>\n",
       "  </tbody>\n",
       "</table>\n",
       "</div>"
      ],
      "text/plain": [
       "       Unnamed: 0       date  ... away_score      tournament\n",
       "25164       25164 2002-05-31  ...          1  FIFA World Cup\n",
       "25165       25165 2002-06-01  ...          0  FIFA World Cup\n",
       "25166       25166 2002-06-01  ...          1  FIFA World Cup\n",
       "25167       25167 2002-06-01  ...          2  FIFA World Cup\n",
       "25168       25168 2002-06-02  ...          0  FIFA World Cup\n",
       "\n",
       "[5 rows x 7 columns]"
      ]
     },
     "execution_count": 244,
     "metadata": {},
     "output_type": "execute_result"
    }
   ],
   "source": [
    "m_condition = (m_df['date']>=pd.to_datetime('2002-01-01'))\n",
    "n_m_df = m_df[m_condition].query('tournament==\"FIFA World Cup\"')\n",
    "n_m_df.head()"
   ]
  },
  {
   "cell_type": "code",
   "execution_count": 245,
   "id": "4ef0c1e9-8b33-45ac-bda5-ad4c1c0f2655",
   "metadata": {
    "outputsMetadata": {
     "0": {
      "height": 194,
      "type": "dataFrame"
     }
    }
   },
   "outputs": [
    {
     "data": {
      "application/com.datacamp.data-table.v2+json": {
       "table": {
        "data": {
         "Unnamed: 0": [
          1600,
          1601,
          1602,
          1603,
          1604
         ],
         "away_score": [
          3,
          0,
          1,
          0,
          1
         ],
         "away_team": [
          "North Korea",
          "France",
          "Canada",
          "Argentina",
          "Sweden"
         ],
         "date": [
          "2003-09-20T00:00:00.000",
          "2003-09-20T00:00:00.000",
          "2003-09-20T00:00:00.000",
          "2003-09-20T00:00:00.000",
          "2003-09-21T00:00:00.000"
         ],
         "home_score": [
          0,
          2,
          4,
          6,
          3
         ],
         "home_team": [
          "Nigeria",
          "Norway",
          "Germany",
          "Japan",
          "United States"
         ],
         "index": [
          1600,
          1601,
          1602,
          1603,
          1604
         ],
         "tournament": [
          "FIFA World Cup",
          "FIFA World Cup",
          "FIFA World Cup",
          "FIFA World Cup",
          "FIFA World Cup"
         ]
        },
        "schema": {
         "fields": [
          {
           "name": "index",
           "type": "integer"
          },
          {
           "name": "Unnamed: 0",
           "type": "integer"
          },
          {
           "name": "date",
           "type": "datetime"
          },
          {
           "name": "home_team",
           "type": "string"
          },
          {
           "name": "away_team",
           "type": "string"
          },
          {
           "name": "home_score",
           "type": "integer"
          },
          {
           "name": "away_score",
           "type": "integer"
          },
          {
           "name": "tournament",
           "type": "string"
          }
         ],
         "pandas_version": "1.4.0",
         "primaryKey": [
          "index"
         ]
        }
       },
       "total_rows": 5,
       "truncation_type": null
      },
      "text/html": [
       "<div>\n",
       "<style scoped>\n",
       "    .dataframe tbody tr th:only-of-type {\n",
       "        vertical-align: middle;\n",
       "    }\n",
       "\n",
       "    .dataframe tbody tr th {\n",
       "        vertical-align: top;\n",
       "    }\n",
       "\n",
       "    .dataframe thead th {\n",
       "        text-align: right;\n",
       "    }\n",
       "</style>\n",
       "<table border=\"1\" class=\"dataframe\">\n",
       "  <thead>\n",
       "    <tr style=\"text-align: right;\">\n",
       "      <th></th>\n",
       "      <th>Unnamed: 0</th>\n",
       "      <th>date</th>\n",
       "      <th>home_team</th>\n",
       "      <th>away_team</th>\n",
       "      <th>home_score</th>\n",
       "      <th>away_score</th>\n",
       "      <th>tournament</th>\n",
       "    </tr>\n",
       "  </thead>\n",
       "  <tbody>\n",
       "    <tr>\n",
       "      <th>1600</th>\n",
       "      <td>1600</td>\n",
       "      <td>2003-09-20</td>\n",
       "      <td>Nigeria</td>\n",
       "      <td>North Korea</td>\n",
       "      <td>0</td>\n",
       "      <td>3</td>\n",
       "      <td>FIFA World Cup</td>\n",
       "    </tr>\n",
       "    <tr>\n",
       "      <th>1601</th>\n",
       "      <td>1601</td>\n",
       "      <td>2003-09-20</td>\n",
       "      <td>Norway</td>\n",
       "      <td>France</td>\n",
       "      <td>2</td>\n",
       "      <td>0</td>\n",
       "      <td>FIFA World Cup</td>\n",
       "    </tr>\n",
       "    <tr>\n",
       "      <th>1602</th>\n",
       "      <td>1602</td>\n",
       "      <td>2003-09-20</td>\n",
       "      <td>Germany</td>\n",
       "      <td>Canada</td>\n",
       "      <td>4</td>\n",
       "      <td>1</td>\n",
       "      <td>FIFA World Cup</td>\n",
       "    </tr>\n",
       "    <tr>\n",
       "      <th>1603</th>\n",
       "      <td>1603</td>\n",
       "      <td>2003-09-20</td>\n",
       "      <td>Japan</td>\n",
       "      <td>Argentina</td>\n",
       "      <td>6</td>\n",
       "      <td>0</td>\n",
       "      <td>FIFA World Cup</td>\n",
       "    </tr>\n",
       "    <tr>\n",
       "      <th>1604</th>\n",
       "      <td>1604</td>\n",
       "      <td>2003-09-21</td>\n",
       "      <td>United States</td>\n",
       "      <td>Sweden</td>\n",
       "      <td>3</td>\n",
       "      <td>1</td>\n",
       "      <td>FIFA World Cup</td>\n",
       "    </tr>\n",
       "  </tbody>\n",
       "</table>\n",
       "</div>"
      ],
      "text/plain": [
       "      Unnamed: 0       date  ... away_score      tournament\n",
       "1600        1600 2003-09-20  ...          3  FIFA World Cup\n",
       "1601        1601 2003-09-20  ...          0  FIFA World Cup\n",
       "1602        1602 2003-09-20  ...          1  FIFA World Cup\n",
       "1603        1603 2003-09-20  ...          0  FIFA World Cup\n",
       "1604        1604 2003-09-21  ...          1  FIFA World Cup\n",
       "\n",
       "[5 rows x 7 columns]"
      ]
     },
     "execution_count": 245,
     "metadata": {},
     "output_type": "execute_result"
    }
   ],
   "source": [
    "w_condition = (w_df['date']>=pd.to_datetime('2002-01-01'))\n",
    "n_w_df = w_df[w_condition].query('tournament==\"FIFA World Cup\"')\n",
    "n_w_df.head()"
   ]
  },
  {
   "cell_type": "code",
   "execution_count": 246,
   "id": "df5c6032-3e6c-4b66-b895-9ff883efbe94",
   "metadata": {
    "outputsMetadata": {
     "0": {
      "height": 211,
      "type": "dataFrame"
     }
    }
   },
   "outputs": [
    {
     "data": {
      "application/com.datacamp.data-table.v2+json": {
       "table": {
        "data": {
         "Unnamed: 0": [
          25164,
          25165,
          25166,
          25167,
          25168
         ],
         "all_goals": [
          1,
          8,
          2,
          3,
          1
         ],
         "away_score": [
          1,
          0,
          1,
          2,
          0
         ],
         "away_team": [
          "Senegal",
          "Saudi Arabia",
          "Cameroon",
          "Denmark",
          "Nigeria"
         ],
         "date": [
          "2002-05-31T00:00:00.000",
          "2002-06-01T00:00:00.000",
          "2002-06-01T00:00:00.000",
          "2002-06-01T00:00:00.000",
          "2002-06-02T00:00:00.000"
         ],
         "home_score": [
          0,
          8,
          1,
          1,
          1
         ],
         "home_team": [
          "France",
          "Germany",
          "Republic of Ireland",
          "Uruguay",
          "Argentina"
         ],
         "index": [
          25164,
          25165,
          25166,
          25167,
          25168
         ],
         "tournament": [
          "FIFA World Cup",
          "FIFA World Cup",
          "FIFA World Cup",
          "FIFA World Cup",
          "FIFA World Cup"
         ]
        },
        "schema": {
         "fields": [
          {
           "name": "index",
           "type": "integer"
          },
          {
           "name": "Unnamed: 0",
           "type": "integer"
          },
          {
           "name": "date",
           "type": "datetime"
          },
          {
           "name": "home_team",
           "type": "string"
          },
          {
           "name": "away_team",
           "type": "string"
          },
          {
           "name": "home_score",
           "type": "integer"
          },
          {
           "name": "away_score",
           "type": "integer"
          },
          {
           "name": "tournament",
           "type": "string"
          },
          {
           "name": "all_goals",
           "type": "integer"
          }
         ],
         "pandas_version": "1.4.0",
         "primaryKey": [
          "index"
         ]
        }
       },
       "total_rows": 5,
       "truncation_type": null
      },
      "text/html": [
       "<div>\n",
       "<style scoped>\n",
       "    .dataframe tbody tr th:only-of-type {\n",
       "        vertical-align: middle;\n",
       "    }\n",
       "\n",
       "    .dataframe tbody tr th {\n",
       "        vertical-align: top;\n",
       "    }\n",
       "\n",
       "    .dataframe thead th {\n",
       "        text-align: right;\n",
       "    }\n",
       "</style>\n",
       "<table border=\"1\" class=\"dataframe\">\n",
       "  <thead>\n",
       "    <tr style=\"text-align: right;\">\n",
       "      <th></th>\n",
       "      <th>Unnamed: 0</th>\n",
       "      <th>date</th>\n",
       "      <th>home_team</th>\n",
       "      <th>away_team</th>\n",
       "      <th>home_score</th>\n",
       "      <th>away_score</th>\n",
       "      <th>tournament</th>\n",
       "      <th>all_goals</th>\n",
       "    </tr>\n",
       "  </thead>\n",
       "  <tbody>\n",
       "    <tr>\n",
       "      <th>25164</th>\n",
       "      <td>25164</td>\n",
       "      <td>2002-05-31</td>\n",
       "      <td>France</td>\n",
       "      <td>Senegal</td>\n",
       "      <td>0</td>\n",
       "      <td>1</td>\n",
       "      <td>FIFA World Cup</td>\n",
       "      <td>1</td>\n",
       "    </tr>\n",
       "    <tr>\n",
       "      <th>25165</th>\n",
       "      <td>25165</td>\n",
       "      <td>2002-06-01</td>\n",
       "      <td>Germany</td>\n",
       "      <td>Saudi Arabia</td>\n",
       "      <td>8</td>\n",
       "      <td>0</td>\n",
       "      <td>FIFA World Cup</td>\n",
       "      <td>8</td>\n",
       "    </tr>\n",
       "    <tr>\n",
       "      <th>25166</th>\n",
       "      <td>25166</td>\n",
       "      <td>2002-06-01</td>\n",
       "      <td>Republic of Ireland</td>\n",
       "      <td>Cameroon</td>\n",
       "      <td>1</td>\n",
       "      <td>1</td>\n",
       "      <td>FIFA World Cup</td>\n",
       "      <td>2</td>\n",
       "    </tr>\n",
       "    <tr>\n",
       "      <th>25167</th>\n",
       "      <td>25167</td>\n",
       "      <td>2002-06-01</td>\n",
       "      <td>Uruguay</td>\n",
       "      <td>Denmark</td>\n",
       "      <td>1</td>\n",
       "      <td>2</td>\n",
       "      <td>FIFA World Cup</td>\n",
       "      <td>3</td>\n",
       "    </tr>\n",
       "    <tr>\n",
       "      <th>25168</th>\n",
       "      <td>25168</td>\n",
       "      <td>2002-06-02</td>\n",
       "      <td>Argentina</td>\n",
       "      <td>Nigeria</td>\n",
       "      <td>1</td>\n",
       "      <td>0</td>\n",
       "      <td>FIFA World Cup</td>\n",
       "      <td>1</td>\n",
       "    </tr>\n",
       "  </tbody>\n",
       "</table>\n",
       "</div>"
      ],
      "text/plain": [
       "       Unnamed: 0       date  ...      tournament all_goals\n",
       "25164       25164 2002-05-31  ...  FIFA World Cup         1\n",
       "25165       25165 2002-06-01  ...  FIFA World Cup         8\n",
       "25166       25166 2002-06-01  ...  FIFA World Cup         2\n",
       "25167       25167 2002-06-01  ...  FIFA World Cup         3\n",
       "25168       25168 2002-06-02  ...  FIFA World Cup         1\n",
       "\n",
       "[5 rows x 8 columns]"
      ]
     },
     "execution_count": 246,
     "metadata": {},
     "output_type": "execute_result"
    }
   ],
   "source": [
    "n_m_df['all_goals'] = n_m_df['home_score'] + n_m_df['away_score']\n",
    "n_m_df.head()"
   ]
  },
  {
   "cell_type": "code",
   "execution_count": 247,
   "id": "5db21501-5527-47e3-8947-4f581ca6d318",
   "metadata": {
    "outputsMetadata": {
     "0": {
      "height": 211,
      "type": "dataFrame"
     }
    }
   },
   "outputs": [
    {
     "data": {
      "application/com.datacamp.data-table.v2+json": {
       "table": {
        "data": {
         "Unnamed: 0": [
          1600,
          1601,
          1602,
          1603,
          1604
         ],
         "all_goals": [
          3,
          2,
          5,
          6,
          4
         ],
         "away_score": [
          3,
          0,
          1,
          0,
          1
         ],
         "away_team": [
          "North Korea",
          "France",
          "Canada",
          "Argentina",
          "Sweden"
         ],
         "date": [
          "2003-09-20T00:00:00.000",
          "2003-09-20T00:00:00.000",
          "2003-09-20T00:00:00.000",
          "2003-09-20T00:00:00.000",
          "2003-09-21T00:00:00.000"
         ],
         "home_score": [
          0,
          2,
          4,
          6,
          3
         ],
         "home_team": [
          "Nigeria",
          "Norway",
          "Germany",
          "Japan",
          "United States"
         ],
         "index": [
          1600,
          1601,
          1602,
          1603,
          1604
         ],
         "tournament": [
          "FIFA World Cup",
          "FIFA World Cup",
          "FIFA World Cup",
          "FIFA World Cup",
          "FIFA World Cup"
         ]
        },
        "schema": {
         "fields": [
          {
           "name": "index",
           "type": "integer"
          },
          {
           "name": "Unnamed: 0",
           "type": "integer"
          },
          {
           "name": "date",
           "type": "datetime"
          },
          {
           "name": "home_team",
           "type": "string"
          },
          {
           "name": "away_team",
           "type": "string"
          },
          {
           "name": "home_score",
           "type": "integer"
          },
          {
           "name": "away_score",
           "type": "integer"
          },
          {
           "name": "tournament",
           "type": "string"
          },
          {
           "name": "all_goals",
           "type": "integer"
          }
         ],
         "pandas_version": "1.4.0",
         "primaryKey": [
          "index"
         ]
        }
       },
       "total_rows": 5,
       "truncation_type": null
      },
      "text/html": [
       "<div>\n",
       "<style scoped>\n",
       "    .dataframe tbody tr th:only-of-type {\n",
       "        vertical-align: middle;\n",
       "    }\n",
       "\n",
       "    .dataframe tbody tr th {\n",
       "        vertical-align: top;\n",
       "    }\n",
       "\n",
       "    .dataframe thead th {\n",
       "        text-align: right;\n",
       "    }\n",
       "</style>\n",
       "<table border=\"1\" class=\"dataframe\">\n",
       "  <thead>\n",
       "    <tr style=\"text-align: right;\">\n",
       "      <th></th>\n",
       "      <th>Unnamed: 0</th>\n",
       "      <th>date</th>\n",
       "      <th>home_team</th>\n",
       "      <th>away_team</th>\n",
       "      <th>home_score</th>\n",
       "      <th>away_score</th>\n",
       "      <th>tournament</th>\n",
       "      <th>all_goals</th>\n",
       "    </tr>\n",
       "  </thead>\n",
       "  <tbody>\n",
       "    <tr>\n",
       "      <th>1600</th>\n",
       "      <td>1600</td>\n",
       "      <td>2003-09-20</td>\n",
       "      <td>Nigeria</td>\n",
       "      <td>North Korea</td>\n",
       "      <td>0</td>\n",
       "      <td>3</td>\n",
       "      <td>FIFA World Cup</td>\n",
       "      <td>3</td>\n",
       "    </tr>\n",
       "    <tr>\n",
       "      <th>1601</th>\n",
       "      <td>1601</td>\n",
       "      <td>2003-09-20</td>\n",
       "      <td>Norway</td>\n",
       "      <td>France</td>\n",
       "      <td>2</td>\n",
       "      <td>0</td>\n",
       "      <td>FIFA World Cup</td>\n",
       "      <td>2</td>\n",
       "    </tr>\n",
       "    <tr>\n",
       "      <th>1602</th>\n",
       "      <td>1602</td>\n",
       "      <td>2003-09-20</td>\n",
       "      <td>Germany</td>\n",
       "      <td>Canada</td>\n",
       "      <td>4</td>\n",
       "      <td>1</td>\n",
       "      <td>FIFA World Cup</td>\n",
       "      <td>5</td>\n",
       "    </tr>\n",
       "    <tr>\n",
       "      <th>1603</th>\n",
       "      <td>1603</td>\n",
       "      <td>2003-09-20</td>\n",
       "      <td>Japan</td>\n",
       "      <td>Argentina</td>\n",
       "      <td>6</td>\n",
       "      <td>0</td>\n",
       "      <td>FIFA World Cup</td>\n",
       "      <td>6</td>\n",
       "    </tr>\n",
       "    <tr>\n",
       "      <th>1604</th>\n",
       "      <td>1604</td>\n",
       "      <td>2003-09-21</td>\n",
       "      <td>United States</td>\n",
       "      <td>Sweden</td>\n",
       "      <td>3</td>\n",
       "      <td>1</td>\n",
       "      <td>FIFA World Cup</td>\n",
       "      <td>4</td>\n",
       "    </tr>\n",
       "  </tbody>\n",
       "</table>\n",
       "</div>"
      ],
      "text/plain": [
       "      Unnamed: 0       date  ...      tournament all_goals\n",
       "1600        1600 2003-09-20  ...  FIFA World Cup         3\n",
       "1601        1601 2003-09-20  ...  FIFA World Cup         2\n",
       "1602        1602 2003-09-20  ...  FIFA World Cup         5\n",
       "1603        1603 2003-09-20  ...  FIFA World Cup         6\n",
       "1604        1604 2003-09-21  ...  FIFA World Cup         4\n",
       "\n",
       "[5 rows x 8 columns]"
      ]
     },
     "execution_count": 247,
     "metadata": {},
     "output_type": "execute_result"
    }
   ],
   "source": [
    "n_w_df['all_goals'] = n_w_df['home_score'] + n_w_df['away_score']\n",
    "n_w_df.head()"
   ]
  },
  {
   "cell_type": "code",
   "execution_count": 248,
   "id": "de75dcab-d805-429e-964d-836cdc65e047",
   "metadata": {
    "executionCancelledAt": null,
    "executionTime": 209,
    "lastExecutedAt": 1713861929692,
    "lastExecutedByKernel": "03a27ca6-af82-4aa2-9c3a-1cf6b5fd5d5e",
    "lastScheduledRunId": null,
    "lastSuccessfullyExecutedCode": "sns.displot(data=n_w_df,\n            x='all_goals',\n            bins=20)\nplt.show()"
   },
   "outputs": [
    {
     "data": {
      "image/png": "[encoded data removed]",
      "text/plain": [
       "<Figure size 500x500 with 1 Axes>"
      ]
     },
     "metadata": {},
     "output_type": "display_data"
    }
   ],
   "source": [
    "sns.displot(data=n_w_df,\n",
    "            x='all_goals',\n",
    "            bins=20)\n",
    "plt.show()"
   ]
  },
  {
   "cell_type": "code",
   "execution_count": 249,
   "id": "c39aa351-62b4-443d-8962-298c90c8f699",
   "metadata": {
    "executionCancelledAt": null,
    "executionTime": 211,
    "lastExecutedAt": 1713861929903,
    "lastExecutedByKernel": "03a27ca6-af82-4aa2-9c3a-1cf6b5fd5d5e",
    "lastScheduledRunId": null,
    "lastSuccessfullyExecutedCode": "sns.displot(data=n_m_df,\n            x='all_goals',\n            bins=20)\nplt.show()"
   },
   "outputs": [
    {
     "data": {
      "image/png": "[encoded data removed]",
      "text/plain": [
       "<Figure size 500x500 with 1 Axes>"
      ]
     },
     "metadata": {},
     "output_type": "display_data"
    }
   ],
   "source": [
    "sns.displot(data=n_m_df,\n",
    "            x='all_goals',\n",
    "            bins=20)\n",
    "plt.show()"
   ]
  },
  {
   "cell_type": "code",
   "execution_count": 250,
   "id": "c9b8d55f-fc44-490f-b75d-7fbfcd688d1a",
   "metadata": {
    "executionCancelledAt": null,
    "executionTime": 52,
    "lastExecutedAt": 1713861929955,
    "lastExecutedByKernel": "03a27ca6-af82-4aa2-9c3a-1cf6b5fd5d5e",
    "lastScheduledRunId": null,
    "lastSuccessfullyExecutedCode": "n_df = pd.DataFrame({\n    'men':n_m_df['all_goals'],\n    'women':n_w_df['all_goals']\n})\nn_df.head()",
    "outputsMetadata": {
     "0": {
      "height": 194,
      "type": "dataFrame"
     }
    }
   },
   "outputs": [
    {
     "data": {
      "application/com.datacamp.data-table.v2+json": {
       "table": {
        "data": {
         "index": [
          1600,
          1601,
          1602,
          1603,
          1604
         ],
         "men": [
          null,
          null,
          null,
          null,
          null
         ],
         "women": [
          3,
          2,
          5,
          6,
          4
         ]
        },
        "schema": {
         "fields": [
          {
           "name": "index",
           "type": "integer"
          },
          {
           "name": "men",
           "type": "number"
          },
          {
           "name": "women",
           "type": "number"
          }
         ],
         "pandas_version": "1.4.0",
         "primaryKey": [
          "index"
         ]
        }
       },
       "total_rows": 5,
       "truncation_type": null
      },
      "text/html": [
       "<div>\n",
       "<style scoped>\n",
       "    .dataframe tbody tr th:only-of-type {\n",
       "        vertical-align: middle;\n",
       "    }\n",
       "\n",
       "    .dataframe tbody tr th {\n",
       "        vertical-align: top;\n",
       "    }\n",
       "\n",
       "    .dataframe thead th {\n",
       "        text-align: right;\n",
       "    }\n",
       "</style>\n",
       "<table border=\"1\" class=\"dataframe\">\n",
       "  <thead>\n",
       "    <tr style=\"text-align: right;\">\n",
       "      <th></th>\n",
       "      <th>men</th>\n",
       "      <th>women</th>\n",
       "    </tr>\n",
       "  </thead>\n",
       "  <tbody>\n",
       "    <tr>\n",
       "      <th>1600</th>\n",
       "      <td>NaN</td>\n",
       "      <td>3.0</td>\n",
       "    </tr>\n",
       "    <tr>\n",
       "      <th>1601</th>\n",
       "      <td>NaN</td>\n",
       "      <td>2.0</td>\n",
       "    </tr>\n",
       "    <tr>\n",
       "      <th>1602</th>\n",
       "      <td>NaN</td>\n",
       "      <td>5.0</td>\n",
       "    </tr>\n",
       "    <tr>\n",
       "      <th>1603</th>\n",
       "      <td>NaN</td>\n",
       "      <td>6.0</td>\n",
       "    </tr>\n",
       "    <tr>\n",
       "      <th>1604</th>\n",
       "      <td>NaN</td>\n",
       "      <td>4.0</td>\n",
       "    </tr>\n",
       "  </tbody>\n",
       "</table>\n",
       "</div>"
      ],
      "text/plain": [
       "      men  women\n",
       "1600  NaN    3.0\n",
       "1601  NaN    2.0\n",
       "1602  NaN    5.0\n",
       "1603  NaN    6.0\n",
       "1604  NaN    4.0"
      ]
     },
     "execution_count": 250,
     "metadata": {},
     "output_type": "execute_result"
    }
   ],
   "source": [
    "n_df = pd.DataFrame({\n",
    "    'men':n_m_df['all_goals'],\n",
    "    'women':n_w_df['all_goals']\n",
    "})\n",
    "n_df.head()"
   ]
  },
  {
   "cell_type": "code",
   "execution_count": 251,
   "id": "932de11a-7fcf-462b-99dc-c73cf0eae7e4",
   "metadata": {
    "executionCancelledAt": null,
    "executionTime": 51,
    "lastExecutedAt": 1713861930006,
    "lastExecutedByKernel": "03a27ca6-af82-4aa2-9c3a-1cf6b5fd5d5e",
    "lastScheduledRunId": null,
    "lastSuccessfullyExecutedCode": "wmw_test = pingouin.mwu(\n    x=n_df['women'],\n    y=n_df['men'],\n    alternative='greater'\n)\np_val = wmw_test['p-val'].values[0]\n\nif p_val <= 0.01:\n    result = \"reject\"\nelse:\n    result = \"fail to reject\"",
    "outputsMetadata": {
     "0": {
      "height": 59,
      "type": "stream"
     }
    }
   },
   "outputs": [],
   "source": [
    "wmw_test = pingouin.mwu(\n",
    "    x=n_df['women'],\n",
    "    y=n_df['men'],\n",
    "    alternative='greater'\n",
    ")\n",
    "p_val = wmw_test['p-val'].values[0]\n",
    "\n",
    "if p_val <= 0.01:\n",
    "    result = \"reject\"\n",
    "else:\n",
    "    result = \"fail to reject\""
   ]
  },
  {
   "cell_type": "code",
   "execution_count": 252,
   "id": "a92b5172-37e4-4bd1-bfa0-31aab709f95a",
   "metadata": {
    "executionCancelledAt": null,
    "executionTime": 47,
    "lastExecutedAt": 1713861930054,
    "lastExecutedByKernel": "03a27ca6-af82-4aa2-9c3a-1cf6b5fd5d5e",
    "lastScheduledRunId": null,
    "lastSuccessfullyExecutedCode": "result_dict = {'p_val':p_val, \n               'result':result}\nresult_dict"
   },
   "outputs": [
    {
     "data": {
      "text/plain": [
       "{'p_val': 0.005106609825443641, 'result': 'reject'}"
      ]
     },
     "execution_count": 252,
     "metadata": {},
     "output_type": "execute_result"
    }
   ],
   "source": [
    "result_dict = {'p_val':p_val, \n",
    "               'result':result}\n",
    "result_dict"
   ]
  },
  {
   "cell_type": "code",
   "execution_count": 253,
   "id": "095f747b-9263-46b8-a541-bb120c8e7955",
   "metadata": {
    "executionCancelledAt": null,
    "executionTime": 48,
    "lastExecutedAt": 1713861930102,
    "lastExecutedByKernel": "03a27ca6-af82-4aa2-9c3a-1cf6b5fd5d5e",
    "lastScheduledRunId": null,
    "lastSuccessfullyExecutedCode": "un_t = pingouin.ttest(\n    x=n_df['women'],\n    y=n_df['men'],\n    alternative='greater',\n)\nun_t['p-val']",
    "outputsMetadata": {
     "0": {
      "height": 95,
      "type": "dataFrame"
     }
    }
   },
   "outputs": [
    {
     "data": {
      "application/com.datacamp.data-table.v2+json": {
       "table": {
        "data": {
         "index": [
          "T-test"
         ],
         "p-val": [
          0.0025980724
         ]
        },
        "schema": {
         "fields": [
          {
           "name": "index",
           "type": "string"
          },
          {
           "name": "p-val",
           "type": "number"
          }
         ],
         "pandas_version": "1.4.0",
         "primaryKey": [
          "index"
         ]
        }
       },
       "total_rows": 1,
       "truncation_type": null
      },
      "text/plain": [
       "T-test    0.002598\n",
       "Name: p-val, dtype: float64"
      ]
     },
     "execution_count": 253,
     "metadata": {},
     "output_type": "execute_result"
    }
   ],
   "source": [
    "un_t = pingouin.ttest(\n",
    "    x=n_df['women'],\n",
    "    y=n_df['men'],\n",
    "    alternative='greater',\n",
    ")\n",
    "un_t['p-val']"
   ]
  },
  {
   "cell_type": "code",
   "execution_count": 1,
   "id": "630fcc04-343b-4408-ac92-5f532cd45ba8",
   "metadata": {
    "executionCancelledAt": null,
    "executionTime": 48,
    "lastExecutedAt": 1713861930150,
    "lastExecutedByKernel": "03a27ca6-af82-4aa2-9c3a-1cf6b5fd5d5e",
    "lastScheduledRunId": null,
    "lastSuccessfullyExecutedCode": "# result_dict = {'p_val':0.002598, \n#                'result':'reject'}\n# result_dict"
   },
   "outputs": [
    {
     "data": {
      "text/plain": [
       "{'p_val': 0.002598, 'result': 'reject'}"
      ]
     },
     "execution_count": 1,
     "metadata": {},
     "output_type": "execute_result"
    }
   ],
   "source": [
    "result_dict = {'p_val':0.002598, \n",
    "               'result':'reject'}\n",
    "result_dict"
   ]
  },
  {
   "cell_type": "code",
   "execution_count": null,
   "id": "3b9f2ecc-3ec3-4a91-b217-4c3ce3cfa566",
   "metadata": {},
   "outputs": [],
   "source": []
  }
 ],
 "metadata": {
  "colab": {
   "name": "Welcome to DataCamp Workspaces.ipynb",
   "provenance": []
  },
  "kernelspec": {
   "display_name": "Python 3 (ipykernel)",
   "language": "python",
   "name": "python3"
  },
  "language_info": {
   "codemirror_mode": {
    "name": "ipython",
    "version": 3
   },
   "file_extension": ".py",
   "mimetype": "text/x-python",
   "name": "python",
   "nbconvert_exporter": "python",
   "pygments_lexer": "ipython3",
   "version": "3.12.2"
  }
 },
 "nbformat": 4,
 "nbformat_minor": 5
}
