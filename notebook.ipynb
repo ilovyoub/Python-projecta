{
 "cells": [
  {
   "cell_type": "markdown",
   "id": "db5bd2ce-918a-4f7d-a927-a3ea74c4b456",
   "metadata": {},
   "source": [
    "The Nobel Foundation has made a dataset available of all prize winners from the outset of the awards from 1901 to 2023. The dataset used in this project is from the Nobel Prize API and is available in the `nobel.csv` file in the `data` folder.\n",
    "\n",
    "In this project, you'll get a chance to explore and answer several questions related to this prizewinning data. And we encourage you then to explore further questions that you're interested in!"
   ]
  },
  {
   "cell_type": "code",
   "execution_count": 53,
   "id": "11fd5946-7bd1-495c-aa7f-ff6e7e4a350b",
   "metadata": {
    "collapsed": false,
    "executionCancelledAt": null,
    "executionTime": 46,
    "jupyter": {
     "outputs_hidden": false,
     "source_hidden": false
    },
    "lastExecutedAt": 1706212440159,
    "lastScheduledRunId": null,
    "lastSuccessfullyExecutedCode": "import pandas as pd\nimport seaborn as sns\nimport numpy as np\nimport matplotlib.pyplot as plt\n\ndf = pd.read_csv('data//nobel.csv')\nnobel = pd.read_csv('data//nobel.csv')\ndf.head()",
    "outputsMetadata": {
     "0": {
      "height": 211,
      "type": "dataFrame"
     }
    }
   },
   "outputs": [
    {
     "data": {
      "application/com.datacamp.data-table.v2+json": {
       "table": {
        "data": {
         "birth_city": [
          "Rotterdam",
          "Paris",
          "Hansdorf (Lawice)",
          "Geneva",
          "Paris"
         ],
         "birth_country": [
          "Netherlands",
          "France",
          "Prussia (Poland)",
          "Switzerland",
          "France"
         ],
         "birth_date": [
          "1852-08-30",
          "1839-03-16",
          "1854-03-15",
          "1828-05-08",
          "1822-05-20"
         ],
         "category": [
          "Chemistry",
          "Literature",
          "Medicine",
          "Peace",
          "Peace"
         ],
         "death_city": [
          "Berlin",
          "Châtenay",
          "Marburg",
          "Heiden",
          "Paris"
         ],
         "death_country": [
          "Germany",
          "France",
          "Germany",
          "Switzerland",
          "France"
         ],
         "death_date": [
          "1911-03-01",
          "1907-09-07",
          "1917-03-31",
          "1910-10-30",
          "1912-06-12"
         ],
         "full_name": [
          "Jacobus Henricus van 't Hoff",
          "Sully Prudhomme",
          "Emil Adolf von Behring",
          "Jean Henry Dunant",
          "Frédéric Passy"
         ],
         "index": [
          0,
          1,
          2,
          3,
          4
         ],
         "laureate_id": [
          160,
          569,
          293,
          462,
          463
         ],
         "laureate_type": [
          "Individual",
          "Individual",
          "Individual",
          "Individual",
          "Individual"
         ],
         "motivation": [
          "\"in recognition of the extraordinary services he has rendered by the discovery of the laws of chemical dynamics and osmotic pressure in solutions\"",
          "\"in special recognition of his poetic composition, which gives evidence of lofty idealism, artistic perfection and a rare combination of the qualities of both heart and intellect\"",
          "\"for his work on serum therapy, especially its application against diphtheria, by which he has opened a new road in the domain of medical science and thereby placed in the hands of the physician a victorious weapon against illness and deaths\"",
          null,
          null
         ],
         "organization_city": [
          "Berlin",
          null,
          "Marburg",
          null,
          null
         ],
         "organization_country": [
          "Germany",
          null,
          "Germany",
          null,
          null
         ],
         "organization_name": [
          "Berlin University",
          null,
          "Marburg University",
          null,
          null
         ],
         "prize": [
          "The Nobel Prize in Chemistry 1901",
          "The Nobel Prize in Literature 1901",
          "The Nobel Prize in Physiology or Medicine 1901",
          "The Nobel Peace Prize 1901",
          "The Nobel Peace Prize 1901"
         ],
         "prize_share": [
          "1/1",
          "1/1",
          "1/1",
          "1/2",
          "1/2"
         ],
         "sex": [
          "Male",
          "Male",
          "Male",
          "Male",
          "Male"
         ],
         "year": [
          1901,
          1901,
          1901,
          1901,
          1901
         ]
        },
        "schema": {
         "fields": [
          {
           "name": "index",
           "type": "integer"
          },
          {
           "name": "year",
           "type": "integer"
          },
          {
           "name": "category",
           "type": "string"
          },
          {
           "name": "prize",
           "type": "string"
          },
          {
           "name": "motivation",
           "type": "string"
          },
          {
           "name": "prize_share",
           "type": "string"
          },
          {
           "name": "laureate_id",
           "type": "integer"
          },
          {
           "name": "laureate_type",
           "type": "string"
          },
          {
           "name": "full_name",
           "type": "string"
          },
          {
           "name": "birth_date",
           "type": "string"
          },
          {
           "name": "birth_city",
           "type": "string"
          },
          {
           "name": "birth_country",
           "type": "string"
          },
          {
           "name": "sex",
           "type": "string"
          },
          {
           "name": "organization_name",
           "type": "string"
          },
          {
           "name": "organization_city",
           "type": "string"
          },
          {
           "name": "organization_country",
           "type": "string"
          },
          {
           "name": "death_date",
           "type": "string"
          },
          {
           "name": "death_city",
           "type": "string"
          },
          {
           "name": "death_country",
           "type": "string"
          }
         ],
         "pandas_version": "1.4.0",
         "primaryKey": [
          "index"
         ]
        }
       },
       "total_rows": 5,
       "truncation_type": null
      },
      "text/html": [
       "<div>\n",
       "<style scoped>\n",
       "    .dataframe tbody tr th:only-of-type {\n",
       "        vertical-align: middle;\n",
       "    }\n",
       "\n",
       "    .dataframe tbody tr th {\n",
       "        vertical-align: top;\n",
       "    }\n",
       "\n",
       "    .dataframe thead th {\n",
       "        text-align: right;\n",
       "    }\n",
       "</style>\n",
       "<table border=\"1\" class=\"dataframe\">\n",
       "  <thead>\n",
       "    <tr style=\"text-align: right;\">\n",
       "      <th></th>\n",
       "      <th>year</th>\n",
       "      <th>category</th>\n",
       "      <th>prize</th>\n",
       "      <th>motivation</th>\n",
       "      <th>prize_share</th>\n",
       "      <th>laureate_id</th>\n",
       "      <th>laureate_type</th>\n",
       "      <th>full_name</th>\n",
       "      <th>birth_date</th>\n",
       "      <th>birth_city</th>\n",
       "      <th>birth_country</th>\n",
       "      <th>sex</th>\n",
       "      <th>organization_name</th>\n",
       "      <th>organization_city</th>\n",
       "      <th>organization_country</th>\n",
       "      <th>death_date</th>\n",
       "      <th>death_city</th>\n",
       "      <th>death_country</th>\n",
       "    </tr>\n",
       "  </thead>\n",
       "  <tbody>\n",
       "    <tr>\n",
       "      <th>0</th>\n",
       "      <td>1901</td>\n",
       "      <td>Chemistry</td>\n",
       "      <td>The Nobel Prize in Chemistry 1901</td>\n",
       "      <td>\"in recognition of the extraordinary services ...</td>\n",
       "      <td>1/1</td>\n",
       "      <td>160</td>\n",
       "      <td>Individual</td>\n",
       "      <td>Jacobus Henricus van 't Hoff</td>\n",
       "      <td>1852-08-30</td>\n",
       "      <td>Rotterdam</td>\n",
       "      <td>Netherlands</td>\n",
       "      <td>Male</td>\n",
       "      <td>Berlin University</td>\n",
       "      <td>Berlin</td>\n",
       "      <td>Germany</td>\n",
       "      <td>1911-03-01</td>\n",
       "      <td>Berlin</td>\n",
       "      <td>Germany</td>\n",
       "    </tr>\n",
       "    <tr>\n",
       "      <th>1</th>\n",
       "      <td>1901</td>\n",
       "      <td>Literature</td>\n",
       "      <td>The Nobel Prize in Literature 1901</td>\n",
       "      <td>\"in special recognition of his poetic composit...</td>\n",
       "      <td>1/1</td>\n",
       "      <td>569</td>\n",
       "      <td>Individual</td>\n",
       "      <td>Sully Prudhomme</td>\n",
       "      <td>1839-03-16</td>\n",
       "      <td>Paris</td>\n",
       "      <td>France</td>\n",
       "      <td>Male</td>\n",
       "      <td>NaN</td>\n",
       "      <td>NaN</td>\n",
       "      <td>NaN</td>\n",
       "      <td>1907-09-07</td>\n",
       "      <td>Châtenay</td>\n",
       "      <td>France</td>\n",
       "    </tr>\n",
       "    <tr>\n",
       "      <th>2</th>\n",
       "      <td>1901</td>\n",
       "      <td>Medicine</td>\n",
       "      <td>The Nobel Prize in Physiology or Medicine 1901</td>\n",
       "      <td>\"for his work on serum therapy, especially its...</td>\n",
       "      <td>1/1</td>\n",
       "      <td>293</td>\n",
       "      <td>Individual</td>\n",
       "      <td>Emil Adolf von Behring</td>\n",
       "      <td>1854-03-15</td>\n",
       "      <td>Hansdorf (Lawice)</td>\n",
       "      <td>Prussia (Poland)</td>\n",
       "      <td>Male</td>\n",
       "      <td>Marburg University</td>\n",
       "      <td>Marburg</td>\n",
       "      <td>Germany</td>\n",
       "      <td>1917-03-31</td>\n",
       "      <td>Marburg</td>\n",
       "      <td>Germany</td>\n",
       "    </tr>\n",
       "    <tr>\n",
       "      <th>3</th>\n",
       "      <td>1901</td>\n",
       "      <td>Peace</td>\n",
       "      <td>The Nobel Peace Prize 1901</td>\n",
       "      <td>NaN</td>\n",
       "      <td>1/2</td>\n",
       "      <td>462</td>\n",
       "      <td>Individual</td>\n",
       "      <td>Jean Henry Dunant</td>\n",
       "      <td>1828-05-08</td>\n",
       "      <td>Geneva</td>\n",
       "      <td>Switzerland</td>\n",
       "      <td>Male</td>\n",
       "      <td>NaN</td>\n",
       "      <td>NaN</td>\n",
       "      <td>NaN</td>\n",
       "      <td>1910-10-30</td>\n",
       "      <td>Heiden</td>\n",
       "      <td>Switzerland</td>\n",
       "    </tr>\n",
       "    <tr>\n",
       "      <th>4</th>\n",
       "      <td>1901</td>\n",
       "      <td>Peace</td>\n",
       "      <td>The Nobel Peace Prize 1901</td>\n",
       "      <td>NaN</td>\n",
       "      <td>1/2</td>\n",
       "      <td>463</td>\n",
       "      <td>Individual</td>\n",
       "      <td>Frédéric Passy</td>\n",
       "      <td>1822-05-20</td>\n",
       "      <td>Paris</td>\n",
       "      <td>France</td>\n",
       "      <td>Male</td>\n",
       "      <td>NaN</td>\n",
       "      <td>NaN</td>\n",
       "      <td>NaN</td>\n",
       "      <td>1912-06-12</td>\n",
       "      <td>Paris</td>\n",
       "      <td>France</td>\n",
       "    </tr>\n",
       "  </tbody>\n",
       "</table>\n",
       "</div>"
      ],
      "text/plain": [
       "   year    category  ... death_city death_country\n",
       "0  1901   Chemistry  ...     Berlin       Germany\n",
       "1  1901  Literature  ...   Châtenay        France\n",
       "2  1901    Medicine  ...    Marburg       Germany\n",
       "3  1901       Peace  ...     Heiden   Switzerland\n",
       "4  1901       Peace  ...      Paris        France\n",
       "\n",
       "[5 rows x 18 columns]"
      ]
     },
     "execution_count": 53,
     "metadata": {},
     "output_type": "execute_result"
    }
   ],
   "source": [
    "import pandas as pd\n",
    "import seaborn as sns\n",
    "import numpy as np\n",
    "import matplotlib.pyplot as plt\n",
    "\n",
    "df = pd.read_csv('data//nobel.csv')\n",
    "nobel = pd.read_csv('data//nobel.csv')\n",
    "df.head()"
   ]
  },
  {
   "cell_type": "code",
   "execution_count": 54,
   "id": "49ce29bc-a2df-424a-b127-1ee4c8b003b0",
   "metadata": {
    "chartConfig": {
     "bar": {
      "hasRoundedCorners": true,
      "stacked": false
     },
     "type": "line",
     "version": "v1"
    },
    "executionCancelledAt": null,
    "executionTime": 463,
    "lastExecutedAt": 1706212440622,
    "lastScheduledRunId": null,
    "lastSuccessfullyExecutedCode": "# What is the most commonly awarded gender and birth country?\n#1\ngender = (df\n          .groupby('sex')\n          .size()\n          .reset_index(name='count'))\ntop_gender = gender[gender['count'] == gender['count'].max()].iloc[0, 0]\n\nsns.catplot(x='sex',\n           data=df,\n           kind='count')\n\n#2\ntop_country_1 = (df\n              .groupby('birth_country')\n              .size()\n              .reset_index(name='count')\n              .sort_values('count', ascending=False)\n              .head(10))\ntop_country = top_country_1['birth_country'].iloc[0]\n\nsns.catplot(x='birth_country',\n            y='count',\n           data=top_country_1,\n           kind='bar',\n           hue='birth_country')\n\nplt.xticks(rotation=90)\n\nplt.show()",
    "outputsMetadata": {
     "0": {
      "height": 97,
      "type": "dataFrame"
     },
     "1": {
      "height": 321,
      "type": "dataFrame"
     }
    },
    "visualizeDataframe": false
   },
   "outputs": [
    {
     "data": {
      "image/png": "[encoded data removed]",
      "text/plain": [
       "<Figure size 500x500 with 1 Axes>"
      ]
     },
     "metadata": {},
     "output_type": "display_data"
    },
    {
     "data": {
      "image/png": "[encoded data removed]",
      "text/plain": [
       "<Figure size 603.986x500 with 1 Axes>"
      ]
     },
     "metadata": {},
     "output_type": "display_data"
    }
   ],
   "source": [
    "# What is the most commonly awarded gender and birth country?\n",
    "#1\n",
    "gender = (df\n",
    "          .groupby('sex')\n",
    "          .size()\n",
    "          .reset_index(name='count'))\n",
    "top_gender = gender[gender['count'] == gender['count'].max()].iloc[0, 0]\n",
    "\n",
    "sns.catplot(x='sex',\n",
    "           data=df,\n",
    "           kind='count')\n",
    "\n",
    "#2\n",
    "top_country_1 = (df\n",
    "              .groupby('birth_country')\n",
    "              .size()\n",
    "              .reset_index(name='count')\n",
    "              .sort_values('count', ascending=False)\n",
    "              .head(10))\n",
    "top_country = top_country_1['birth_country'].iloc[0]\n",
    "\n",
    "sns.catplot(x='birth_country',\n",
    "            y='count',\n",
    "           data=top_country_1,\n",
    "           kind='bar',\n",
    "           hue='birth_country')\n",
    "\n",
    "plt.xticks(rotation=90)\n",
    "\n",
    "plt.show()"
   ]
  },
  {
   "cell_type": "code",
   "execution_count": 55,
   "id": "a20c8d61-35d4-4269-88ef-f1fcb8bdbb2c",
   "metadata": {
    "executionCancelledAt": null,
    "executionTime": 234,
    "lastExecutedAt": 1706212440856,
    "lastScheduledRunId": null,
    "lastSuccessfullyExecutedCode": "# What decade had the highest proportion of US-born winners\n#1\ndf_usa = (df\n          .query(\"birth_country == 'United States of America'\")\n          .groupby((df['year'] // 10) * 10)\n          .size()\n          .reset_index(name='count'))\n\nmax_decade = df_usa[df_usa['count'] == df_usa['count'].max()]\nmax_decade_usa = max_decade.iloc[0, 0]\nsns.relplot(x='year',\n            y='count',\n            data=df_usa,\n           kind='line')",
    "outputsMetadata": {
     "0": {
      "height": 97,
      "type": "dataFrame"
     }
    }
   },
   "outputs": [
    {
     "data": {
      "text/plain": [
       "<seaborn.axisgrid.FacetGrid at 0x7f32adb07370>"
      ]
     },
     "execution_count": 55,
     "metadata": {},
     "output_type": "execute_result"
    },
    {
     "data": {
      "image/png": "[encoded data removed]",
      "text/plain": [
       "<Figure size 500x500 with 1 Axes>"
      ]
     },
     "metadata": {},
     "output_type": "display_data"
    }
   ],
   "source": [
    "# What decade had the highest proportion of US-born winners\n",
    "#1\n",
    "df_usa = (df\n",
    "          .query(\"birth_country == 'United States of America'\")\n",
    "          .groupby((df['year'] // 10) * 10)\n",
    "          .size()\n",
    "          .reset_index(name='count'))\n",
    "\n",
    "max_decade = df_usa[df_usa['count'] == df_usa['count'].max()]\n",
    "max_decade_usa = max_decade.iloc[0, 0]\n",
    "sns.relplot(x='year',\n",
    "            y='count',\n",
    "            data=df_usa,\n",
    "           kind='line')"
   ]
  },
  {
   "cell_type": "code",
   "execution_count": 56,
   "id": "4a298a7a-8109-421b-bc75-8d9b66bfc83c",
   "metadata": {
    "executionCancelledAt": null,
    "executionTime": 55,
    "lastExecutedAt": 1706212440911,
    "lastScheduledRunId": null,
    "lastSuccessfullyExecutedCode": "# What decade and category pair had the highest proportion of female laureates\n#1\ndf['decade'] = df['year'].apply(lambda x: x//10*10)\ndf['female_winner'] = (df['sex'] == 'Female')\n\nprop_female_winners = (df\n                      .groupby(['decade', 'category'], as_index=False)\n                      ['female_winner']\n                      .mean())\n\nmax_female_decade_category = prop_female_winners[prop_female_winners['female_winner'] == prop_female_winners['female_winner'].max()][['decade', 'category']]\n\nmax_female_dict = {max_female_decade_category.iloc[0, 0]:max_female_decade_category.iloc[0, 1]}\nmax_female_dict",
    "outputsMetadata": {
     "0": {
      "height": 97,
      "type": "dataFrame"
     }
    }
   },
   "outputs": [
    {
     "data": {
      "text/plain": [
       "{2020: 'Literature'}"
      ]
     },
     "execution_count": 56,
     "metadata": {},
     "output_type": "execute_result"
    }
   ],
   "source": [
    "# What decade and category pair had the highest proportion of female laureates\n",
    "#1\n",
    "df['decade'] = df['year'].apply(lambda x: x//10*10)\n",
    "df['female_winner'] = (df['sex'] == 'Female')\n",
    "\n",
    "prop_female_winners = (df\n",
    "                      .groupby(['decade', 'category'], as_index=False)\n",
    "                      ['female_winner']\n",
    "                      .mean())\n",
    "\n",
    "max_female_decade_category = prop_female_winners[prop_female_winners['female_winner'] == prop_female_winners['female_winner'].max()][['decade', 'category']]\n",
    "\n",
    "max_female_dict = {max_female_decade_category.iloc[0, 0]:max_female_decade_category.iloc[0, 1]}\n",
    "max_female_dict"
   ]
  },
  {
   "cell_type": "code",
   "execution_count": 57,
   "id": "1d35bd33-b2e1-4d43-ad5a-8a5c46650f49",
   "metadata": {
    "executionCancelledAt": null,
    "executionTime": 54,
    "lastExecutedAt": 1706212440965,
    "lastScheduledRunId": null,
    "lastSuccessfullyExecutedCode": "# Who was the first woman to receive a Nobel Prize, and in what category?\ndf_l = df[df['sex']=='Female'].sort_values('year')[['full_name', 'category']]\nfirst_woman_name = df_l.iloc[0, 0]\nfirst_woman_category = df_l.iloc[0, 1]",
    "outputsMetadata": {
     "0": {
      "height": 323,
      "type": "dataFrame"
     }
    }
   },
   "outputs": [],
   "source": [
    "# Who was the first woman to receive a Nobel Prize, and in what category?\n",
    "df_l = df[df['sex']=='Female'].sort_values('year')[['full_name', 'category']]\n",
    "first_woman_name = df_l.iloc[0, 0]\n",
    "first_woman_category = df_l.iloc[0, 1]"
   ]
  },
  {
   "cell_type": "code",
   "execution_count": 58,
   "id": "d9427b03-1cd5-4bea-a58f-21b68278ad13",
   "metadata": {
    "executionCancelledAt": null,
    "executionTime": 52,
    "lastExecutedAt": 1706212441018,
    "lastScheduledRunId": null,
    "lastSuccessfullyExecutedCode": "# Which individuals or organizations have won multiple Nobel Prizes throughout the years?\n#1\ndf_1_ = (df\n        .groupby('full_name')\n        .size()\n        .reset_index(name='count')\n        .sort_values('count', ascending=False))\ndf_main = (df_1_\n           .query(\"count>1\"))\n#2\nrepeat_list = []\nfor i in range(len(df_main['full_name'])):\n    if df_main['full_name'].iloc[i] not in repeat_list:\n        repeat_list.append(df_main['full_name'].iloc[i])\n        \nrepeat_list",
    "outputsMetadata": {
     "0": {
      "height": 197,
      "type": "dataFrame"
     }
    }
   },
   "outputs": [
    {
     "data": {
      "text/plain": [
       "['Comité international de la Croix Rouge (International Committee of the Red Cross)',\n",
       " 'Office of the United Nations High Commissioner for Refugees (UNHCR)',\n",
       " 'Frederick Sanger',\n",
       " 'Linus Carl Pauling',\n",
       " 'John Bardeen',\n",
       " 'Marie Curie, née Sklodowska']"
      ]
     },
     "execution_count": 58,
     "metadata": {},
     "output_type": "execute_result"
    }
   ],
   "source": [
    "# Which individuals or organizations have won multiple Nobel Prizes throughout the years?\n",
    "#1\n",
    "df_1_ = (df\n",
    "        .groupby('full_name')\n",
    "        .size()\n",
    "        .reset_index(name='count')\n",
    "        .sort_values('count', ascending=False))\n",
    "df_main = (df_1_\n",
    "           .query(\"count>1\"))\n",
    "#2\n",
    "repeat_list = []\n",
    "for i in range(len(df_main['full_name'])):\n",
    "    if df_main['full_name'].iloc[i] not in repeat_list:\n",
    "        repeat_list.append(df_main['full_name'].iloc[i])\n",
    "        \n",
    "repeat_list"
   ]
  }
 ],
 "metadata": {
  "editor": "DataCamp Workspace",
  "kernelspec": {
   "display_name": "Python 3 (ipykernel)",
   "language": "python",
   "name": "python3"
  },
  "language_info": {
   "codemirror_mode": {
    "name": "ipython",
    "version": 3
   },
   "file_extension": ".py",
   "mimetype": "text/x-python",
   "name": "python",
   "nbconvert_exporter": "python",
   "pygments_lexer": "ipython3",
   "version": "3.12.2"
  }
 },
 "nbformat": 4,
 "nbformat_minor": 5
}
